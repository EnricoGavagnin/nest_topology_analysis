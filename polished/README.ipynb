{
 "cells": [
  {
   "cell_type": "markdown",
   "id": "396049e4",
   "metadata": {},
   "source": [
    "# README - Data Analysis\n",
    "\n",
    "This file contains a series of scripts to perform the data post-processing and data analysis of the Nest Topology Manipulation (NTM) experiments. \n",
    "\n",
    "## Post-processing\n",
    "\n",
    "### Requirements\n",
    "Post-processing requires the folowing software to be installed:\n",
    "\n",
    "* [Fort-myrmidon](https://anaconda.org/formicidae-tracker/libfort-myrmidon)\n",
    "* [Fort-Studio (v0.8.3)](https://github.com/formicidae-tracker/myrmidon) \n",
    "* [Fort-myrmidon R-bindings](https://anaconda.org/formicidae-tracker/r-fort-myrmidon) \n",
    "\n",
    "The post-processing is performed using R and Fort-Studio and consists of the following steps:\n",
    "\n",
    "* For each tracking box used (Esterhase, Leamas, Polyakov and Karla), manually create a myrmidon file with manually oriented ants. These files can be found in the data HHD with names **\"manual_ref_*name_tracking_box*.myrmidon\"**. The capsule definition can be cloned from one myrmidon file to an other by using the R script \"clone_capsule_manual_to_manual_R\".\n",
    "\n",
    "* For all the traxking data in the HDD, automatically create a myrmidon file, create ant identities and assign capsule and automatically orient tags based on the ant trajectories. This can be doen using the script **\"auto_orientation_loop.R\"**\n",
    "\n",
    "## Data Analysis\n",
    "\n",
    "The data analysis is performed in Python as Jupiter notebooks and comprises four fundamental parts:\n",
    "\n",
    "1. Create social interaction network from raw data on collision\n",
    "2. Compute network properties for each social network\n",
    "3. Perform statistical analysis on the properties of interest \n",
    "4. Visualise the results by plotting relevant distributions\n",
    "\n",
    "These four parts are performed in two steps. Step 1 and step 2 are performed in the notebook **\"Data_analysis_complete_(social_net&prop).ipynb\"**. Steps 3 and 4 are performed in **\"Data_analysis_complete_(stats&plotting).ipynb\"**.\n",
    "\n",
    "\n",
    "### Requirements\n",
    "The data analysis requires the following software to be installed: \n",
    "\n",
    "* [Fort-myrmidon](https://anaconda.org/formicidae-tracker/libfort-myrmidon)\n",
    "* [Fort-myrmidon Python-bindings](https://anaconda.org/formicidae-tracker/py-fort-myrmidon) (only for **\"Data_analysis_complete_(social_net&prop).ipynb\"**)\n",
    "\n"
   ]
  },
  {
   "cell_type": "code",
   "execution_count": null,
   "id": "4db8dda5",
   "metadata": {},
   "outputs": [],
   "source": [
    "\n"
   ]
  }
 ],
 "metadata": {
  "kernelspec": {
   "display_name": "Python 3 (ipykernel)",
   "language": "python",
   "name": "python3"
  },
  "language_info": {
   "codemirror_mode": {
    "name": "ipython",
    "version": 3
   },
   "file_extension": ".py",
   "mimetype": "text/x-python",
   "name": "python",
   "nbconvert_exporter": "python",
   "pygments_lexer": "ipython3",
   "version": "3.8.12"
  }
 },
 "nbformat": 4,
 "nbformat_minor": 5
}
