{
 "cells": [
  {
   "cell_type": "markdown",
   "id": "0363aa6c",
   "metadata": {},
   "source": [
    "# NTM - dataframe calculator\n",
    "### Enrico Gavagnin"
   ]
  },
  {
   "cell_type": "code",
   "execution_count": 1,
   "id": "0507d3b1",
   "metadata": {},
   "outputs": [],
   "source": [
    "import numpy as np\n",
    "import pandas as pd\n",
    "import matplotlib.pylab as plt\n",
    "import seaborn as sns\n",
    "import py_fort_myrmidon as fm\n",
    "import datetime\n",
    "import networkx as nx\n",
    "import networkx.algorithms.community as nxc\n",
    "#import community\n",
    "import statistics\n",
    "import scipy.stats as stats\n",
    "import os\n",
    "from datetime import datetime, date, timedelta\n",
    "import pickle\n",
    "import warnings\n",
    "warnings.simplefilter(action='ignore', category=FutureWarning)"
   ]
  },
  {
   "cell_type": "code",
   "execution_count": 2,
   "id": "5791b2d5",
   "metadata": {},
   "outputs": [],
   "source": [
    "working_dir = '/media/eg15396/EG_DATA-7/NTM/'\n",
    "myrm_list = sorted([ s for s in os.listdir(working_dir) if s[15:17] == '.m'])"
   ]
  },
  {
   "cell_type": "markdown",
   "id": "c7d6f4b3",
   "metadata": {},
   "source": [
    "## Loop myrm files"
   ]
  },
  {
   "cell_type": "code",
   "execution_count": 5,
   "id": "dfeb66ed",
   "metadata": {
    "scrolled": true
   },
   "outputs": [
    {
     "name": "stdout",
     "output_type": "stream",
     "text": [
      "length_inter\n",
      "EG_NTM_s13_DEHa.myrmidon\n"
     ]
    }
   ],
   "source": [
    "## ========= PARAMETERS========= \n",
    "# Frame rate\n",
    "frm_rate = 6\n",
    "\n",
    "# max gap for different interactions\n",
    "max_gap = 10\n",
    "\n",
    "# minimum cumulative interaction duration (s)\n",
    "min_cum_duration = 0 \n",
    "\n",
    "# Read file with modes of communities number computed\n",
    "with open('data/mode_communities_louvain.pkl', 'rb') as f:\n",
    "    mode_communities_dic = pickle.load(f)\n",
    "\n",
    "# maximum gap (s) for interaction computation\n",
    "for link_type in ['length_inter']:\n",
    "\n",
    "    print(link_type)\n",
    "\n",
    "    for myrm_file in myrm_list[20:21]:\n",
    "        \n",
    "        if int(myrm_file[8:10])==41: \n",
    "            continue\n",
    "\n",
    "        print(myrm_file)\n",
    "        \n",
    "        # Open experiment file\n",
    "        exp = fm.Experiment.Open(working_dir + myrm_file)\n"
   ]
  }
 ],
 "metadata": {
  "kernelspec": {
   "display_name": "Python 3 (ipykernel)",
   "language": "python",
   "name": "python3"
  },
  "language_info": {
   "codemirror_mode": {
    "name": "ipython",
    "version": 3
   },
   "file_extension": ".py",
   "mimetype": "text/x-python",
   "name": "python",
   "nbconvert_exporter": "python",
   "pygments_lexer": "ipython3",
   "version": "3.8.12"
  }
 },
 "nbformat": 4,
 "nbformat_minor": 5
}
